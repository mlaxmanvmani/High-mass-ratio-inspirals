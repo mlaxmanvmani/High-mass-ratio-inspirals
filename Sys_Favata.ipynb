{
 "cells": [
  {
   "cell_type": "code",
   "execution_count": 1,
   "id": "cd7b6164",
   "metadata": {},
   "outputs": [],
   "source": [
    "# Parameter estimation using GWBench (numerical derivatives) (ref. AISS)\n",
    "\n",
    "import numpy as np\n",
    "# from gwbench import network\n",
    "\n",
    "import gwbench.basic_functions as bfs\n",
    "import gwbench.fisher_analysis_tools as fat\n",
    "\n",
    "# import snr_models as model\n",
    "# import waveform_lal as wf_lal\n",
    "# import numpy.linalg as LA\n",
    "\n",
    "PI = np.pi"
   ]
  },
  {
   "cell_type": "code",
   "execution_count": null,
   "id": "37fa0f9b",
   "metadata": {},
   "outputs": [],
   "source": [
    "import gwbench.basic_constants as bc"
   ]
  },
  {
   "cell_type": "code",
   "execution_count": null,
   "id": "4671eb5a",
   "metadata": {},
   "outputs": [],
   "source": [
    "# Injection parameter calculation\n",
    "\n",
    "# e0 = 0.0\n",
    "chi1z = 0.0\n",
    "chi2z = 0.0\n",
    "\n",
    "tc = 0.0\n",
    "phic = 0.0\n",
    "\n",
    "M1_solar = 1.4    # Change the mass of the binary\n",
    "M2_solar = 1.4\n",
    "\n",
    "M_solar = M1_solar + M2_solar          # Total mass in solar mass unit\n",
    "M_SI = M_solar*bc.Msun                 # Total mass in SI unit\n",
    "M_sec = M_SI*bc.GNewton/bc.cLight**3   # Total mass in seconds\n",
    "\n",
    "eta = (M1_solar*M2_solar/(M_solar)**2) \n",
    "\n",
    "Mc_solar = M_solar*eta**(3/5)          # Chirp mass in solar mass unit\n",
    "Mc = M_sec*eta**(3/5)                  # Chirp mass in seconds"
   ]
  },
  {
   "cell_type": "code",
   "execution_count": null,
   "id": "e7c2b50d",
   "metadata": {},
   "outputs": [],
   "source": [
    "import aiss_model_np as aiss_np     # loading the PSD and can be change from the script\n",
    "from scipy.integrate import quad    # "
   ]
  },
  {
   "cell_type": "code",
   "execution_count": null,
   "id": "7ef1d3ee",
   "metadata": {},
   "outputs": [],
   "source": [
    "# Choose the PSD and the desired frequency range\n",
    "\n",
    "# Fs = 4096\n",
    "\n",
    "\n",
    "fs = 20\n",
    "flso = (6.**(3/2) * PI * M_sec)**(-1)\n",
    "\n",
    "# deltaF = 2**(-2.9)\n",
    "# f = np.arange(0, Fs, deltaF)\n",
    "\n",
    "# i_fs = int((fs-0)/deltaF)\n",
    "# i_flso = int((flso-0)/deltaF) + 1\n",
    "\n",
    "# f = f[i_fs:i_flso]\n",
    "\n",
    "f = np.arange(fs, flso, 1)\n",
    "\n",
    "psd_func = aiss_np.Sh_aLIGO \n",
    "psd = psd_func(f)\n",
    "\n",
    "# Calculating Amplitude corresponding to SNR 10\n",
    "rho0  = 10\n",
    "\n",
    "def integrand(f1):\n",
    "    return f1**(-7/3) / psd_func(f1)\n",
    "\n",
    "ans, err = quad(integrand, f[0], flso) # quad returns the answer of the quadrature sum and the error, the error is quite high\n",
    "A =  (rho0**2 / (4*ans))**0.5\n",
    "\n",
    "DL = ((5./24.)**0.5/PI**(2./3.))*(Mc**(5./6.)/A) # From AISS\n",
    "DL_Mpc = DL*bc.cLight/bc.Mpc\n",
    "\n",
    "\n",
    "# print(DL)\n",
    "# print(A)\n",
    "# print(flso)\n",
    "# print(f[-1])\n",
    "# print(f)"
   ]
  },
  {
   "cell_type": "code",
   "execution_count": null,
   "id": "284c67e6",
   "metadata": {},
   "outputs": [],
   "source": [
    "from network_check import Network # \"Network\" is a class\n",
    "import gwbench.wf_class as wfc "
   ]
  },
  {
   "cell_type": "code",
   "execution_count": null,
   "id": "4a9e1ca7",
   "metadata": {},
   "outputs": [],
   "source": [
    "# choose the desired detectors\n",
    "# network_spec = []\n",
    "# initialize the network\n",
    "# net1 = network.Network()\n",
    "\n",
    "\n",
    "net1 = Network()\n",
    "net1.wf = wfc.Waveform()"
   ]
  },
  {
   "cell_type": "code",
   "execution_count": null,
   "id": "92fa32fa",
   "metadata": {},
   "outputs": [],
   "source": [
    "inj_params1 = {\n",
    "    'Mc':    Mc_solar,\n",
    "    'eta':   0.2499,\n",
    "    'chi1z': chi1z,\n",
    "    'chi2z': chi2z,\n",
    "    'DL':    DL_Mpc,\n",
    "    'tc':    tc,\n",
    "    'phic':  phic,\n",
    "    'iota':  0,\n",
    "    'ra':    0,\n",
    "    'dec':   0.0,\n",
    "    'psi':   0,\n",
    "    'gmst0': 0\n",
    "    }"
   ]
  },
  {
   "cell_type": "code",
   "execution_count": null,
   "id": "386afc9a",
   "metadata": {},
   "outputs": [],
   "source": [
    "# variables for which derivatives to be calculated\n",
    "# deriv_symbs_string = 'tc phic M eta chi1z chi2z'\n",
    "deriv_symbs_string = 'Mc eta tc phic'\n",
    "\n",
    "\n",
    "# convert to log or cos\n",
    "conv_cos = ()\n",
    "conv_log = ('Mc','eta')\n",
    "\n",
    "# Earth's rotation\n",
    "use_rot = 0\n",
    "\n",
    "# set variables for network\n",
    "net1.set_net_vars(\n",
    "    f=f, inj_params=inj_params1,\n",
    "    deriv_symbs_string=deriv_symbs_string,\n",
    "    conv_cos=conv_cos, conv_log=conv_log,\n",
    "    use_rot=use_rot\n",
    "    )"
   ]
  },
  {
   "cell_type": "markdown",
   "id": "decfc5b3",
   "metadata": {},
   "source": [
    "# choose waveform\n",
    "\n",
    "# wf_model_name = 'tf2'\n",
    "# net.set_wf_vars(wf_model_name=wf_model_name)\n",
    "\n",
    "net.wf = wfc.Waveform()\n",
    "net.wf.wf_symbs_string = wf_lal.wf_symbs_string\n",
    "net.wf.hfpc_np = wf_lal.hf\n",
    "net.wf.hfpc_sp = None"
   ]
  },
  {
   "cell_type": "code",
   "execution_count": null,
   "id": "dd5580b0",
   "metadata": {},
   "outputs": [],
   "source": [
    "# import wf_models.tf2_ecc_np as tecc_np\n",
    "# import wf_models.tf2_ecc_sp as tecc_sp\n",
    "\n",
    "# wf_model_name = 'tecc'\n",
    "\n",
    "import wf_models.tf2_2_np as tf2_2_np\n",
    "import wf_models.tf2_2_sp as tf2_2_sp"
   ]
  },
  {
   "cell_type": "code",
   "execution_count": null,
   "id": "adafd604",
   "metadata": {},
   "outputs": [],
   "source": [
    "# def select_wf_model_quants(self):\n",
    "#     np_mod = tecc_np\n",
    "#     sp_mod = tecc_sp \n",
    "    \n",
    "#     if sp_mod is None: sp_tmp = None\n",
    "#     else:              sp_tmp = sp_mod.hfpc\n",
    "        \n",
    "#     return np_mod.wf_symbs_string, np_mod.hfpc, sp_tmp\n",
    "\n",
    "# net1.wf.wf_symbs_string, net1.wf.hfpc_np, net1.wf.hfpc_sp = select_wf_model_quants(net1)\n",
    "\n",
    "\n",
    "def select_wf_model_quants(self):\n",
    "    np_mod = tf2_2_np\n",
    "    sp_mod = tf2_2_sp \n",
    "    \n",
    "    if sp_mod is None: sp_tmp = None\n",
    "    else:              sp_tmp = sp_mod.hfpc\n",
    "        \n",
    "    return np_mod.wf_symbs_string, np_mod.hfpc, sp_tmp\n",
    "\n",
    "net1.wf.wf_symbs_string, net1.wf.hfpc_np, net1.wf.hfpc_sp = select_wf_model_quants(net1)"
   ]
  },
  {
   "cell_type": "code",
   "execution_count": null,
   "id": "0c412062",
   "metadata": {},
   "outputs": [],
   "source": [
    "net1.calc_wf_polarizations()"
   ]
  },
  {
   "cell_type": "code",
   "execution_count": null,
   "id": "97be21b7",
   "metadata": {},
   "outputs": [],
   "source": [
    "# compute the WF polarizations and their derivatives\n",
    "net1.calc_wf_polarizations_derivs_num()\n",
    "# print(net1.hfp)"
   ]
  },
  {
   "cell_type": "code",
   "execution_count": null,
   "id": "12e30841",
   "metadata": {},
   "outputs": [],
   "source": [
    "# calculate fihser matrix, covariance matrix and errors \n",
    "# net.calc_errors()\n",
    "\n",
    "# deriv_symbs_list = deriv_symbs_string.split(' ')\n",
    "# deriv_hfp_list = ['del_' + ('log_' + item if item in conv_log else item) + '_hfp' for item in deriv_symbs_list]\n",
    "# del_vs_f_dic1 = bfs.get_sub_dict(net1.del_hfpc,deriv_hfp_list,1)\n",
    "\n",
    "# net1.fisher, net1.cov, net1.wc_fisher, net1.cond_num = fat.calc_fisher_cov_matrices(list(del_vs_f_dic1.values()), psd, f, 0)\n",
    "# # net1.cov = LA.inv(net1.fisher + np.diag([0, PI ** (-2), 0, 0, 1, 1]))\n",
    "# net1.errs = fat.get_errs_from_cov(net1.cov, net1.deriv_variables)\n",
    "\n",
    "# # Calculate SNR\n",
    "# import gwbench.snr as snr_mod\n",
    "\n",
    "# net1.snr = snr_mod.snr_freq_array(net1.hfp, psd, f)\n",
    "\n",
    "deriv_symbs_list = deriv_symbs_string.split(' ')\n",
    "deriv_hfp_list = ['del_' + ('log_' + item if item in conv_log else item) + '_hfp' for item in deriv_symbs_list]\n",
    "del_vs_f_dic1 = bfs.get_sub_dict(net1.del_hfpc,deriv_hfp_list,1)\n",
    "\n",
    "net1.fisher, net1.cov, net1.wc_fisher, net1.cond_num = fat.calc_fisher_cov_matrices(list(del_vs_f_dic1.values()), psd, f, 0)\n",
    "net1.errs = fat.get_errs_from_cov(net1.cov, net1.deriv_variables)\n",
    "# print(net1.cov)\n"
   ]
  },
  {
   "cell_type": "code",
   "execution_count": null,
   "id": "adb6f89e",
   "metadata": {
    "scrolled": true
   },
   "outputs": [],
   "source": [
    "#print error values\n",
    "\n",
    "from math import floor, log10\n",
    "\n",
    "def round_n(x, n):\n",
    "    return round(x, n - int(floor(log10(abs(x)))) - 1)\n",
    "\n",
    "# print the contents of the network objects\n",
    "print(\"tc(ms): \", round_n(net1.errs['tc']*1000,4))\n",
    "print(\"phic: \", round_n(net1.errs['phic'], 4))\n",
    "print(\"log_Mch: \", round_n(net1.errs['log_Mc']*100,5)) # 100 here is for percentage error?\n",
    "print(\"log_eta: \", round_n(net1.errs['log_eta']*100,4))\n",
    "# print(\"log_M: \", round(net1.errs['log_M']*100,4))\n",
    "# print(\"log_e0: \", round_n(net.errs['log_e0'],4))\n",
    "# print()\n",
    "\n",
    "# print(\"SNR: \", net.snr * np.sqrt(2/15) / np.sqrt(5/24))\n",
    "# print(\"SNR: \", net1.snr)\n",
    "# print(\"<SNR>: \", net1.snr/2.5)\n",
    "# print(\"DL_Mpc: \", DL_Mpc)\n",
    "# print(\"flso: \", flso)"
   ]
  },
  {
   "cell_type": "code",
   "execution_count": null,
   "id": "ba071074",
   "metadata": {},
   "outputs": [],
   "source": [
    "# print(net1.snr)\n",
    "# print(net1.errs)"
   ]
  },
  {
   "cell_type": "markdown",
   "id": "cc9ce4d0",
   "metadata": {},
   "source": [
    "# print(net.fisher)\n",
    "# print(net.cond_num)\n",
    "# import matplotlib.pyplot as plt\n",
    "# %matplotlib inline\n",
    "\n",
    "# plt.loglog(net.f, np.abs(net.hfp))\n",
    "\n",
    "# print(net.snr/10*500)\n",
    "\n",
    "# print(net.fisher)\n",
    "eye = np.identity(4)\n",
    "# print((net.cov))\n",
    "prod = (np.dot(net.fisher, net.cov) - eye)\n",
    "\n",
    "print(np.max((prod)))"
   ]
  },
  {
   "cell_type": "code",
   "execution_count": null,
   "id": "274ea78d",
   "metadata": {},
   "outputs": [],
   "source": [
    "# net2 = network.Network()\n",
    "net2 = Network()\n",
    "net2.wf = wfc.Waveform()"
   ]
  },
  {
   "cell_type": "code",
   "execution_count": null,
   "id": "67857a02",
   "metadata": {},
   "outputs": [],
   "source": [
    "# e0 = 0.1\n",
    "\n",
    "inj_params2 = {\n",
    "    'Mc':    Mc_solar,\n",
    "    'eta':   0.2499,\n",
    "    'chi1z': chi1zT,\n",
    "    'chi2z': chi2zT,\n",
    "    'DL':    DL_Mpc,\n",
    "    'tc':    tc,\n",
    "    'phic':  phic,\n",
    "    'iota':  0,\n",
    "    'ra':    0,\n",
    "    'dec':   0.0,\n",
    "    'psi':   0,\n",
    "    'gmst0': 0\n",
    "    }\n",
    "\n",
    "# inj_params2 = {\n",
    "#     'M':    M_solar * (1 + z),\n",
    "#     'eta':   eta,\n",
    "#     'chi1z': chi1z,\n",
    "#     'chi2z': chi2z,\n",
    "#     'DL':    500,\n",
    "#     'tc':    0.,\n",
    "#     'phic':  0,\n",
    "#     'iota':  0.,\n",
    "#     'ra':    0,\n",
    "#     'dec':   np.pi/2,\n",
    "#     'psi':   0,\n",
    "#     'gmst0': 0,\n",
    "#     'approx': approx,\n",
    "#     'e0':    e0,\n",
    "#     'amp_pn':    0, \n",
    "#     'phase_pn': pn,\n",
    "#     'pn': pn\n",
    "#     }\n"
   ]
  },
  {
   "cell_type": "code",
   "execution_count": null,
   "id": "b3fbe7ae",
   "metadata": {},
   "outputs": [],
   "source": [
    "net2.wf = wfc.Waveform()\n",
    "net2.wf.wf_symbs_string, net2.wf.hfpc_np, net2.wf.hfpc_sp = select_wf_model_quants(net2)\n",
    "net2.set_net_vars(\n",
    "    f=f, inj_params=inj_params2,\n",
    "    deriv_symbs_string=deriv_symbs_string,\n",
    "    conv_cos=conv_cos, conv_log=conv_log,\n",
    "    use_rot=use_rot\n",
    "    )\n"
   ]
  },
  {
   "cell_type": "code",
   "execution_count": null,
   "id": "a0d03ef0",
   "metadata": {
    "scrolled": true
   },
   "outputs": [],
   "source": [
    "net2.calc_wf_polarizations_derivs_num()\n",
    "del_vs_f_dic2 = bfs.get_sub_dict(net2.del_hfpc,deriv_hfp_list,1)\n",
    "net2.fisher, net2.cov, net2.wc_fisher, net2.cond_num = fat.calc_fisher_cov_matrices(list(del_vs_f_dic2.values()), psd, f, 0)\n",
    "net2.cov = LA.inv(net2.fisher + np.diag([0, 1 / PI ** 2, 0, 0, 1, 1]))"
   ]
  },
  {
   "cell_type": "code",
   "execution_count": null,
   "id": "4dc7b9b2",
   "metadata": {},
   "outputs": [],
   "source": [
    "net2.errs = fat.get_errs_from_cov(net2.cov, net2.deriv_variables)\n",
    "net2.snr = snr_mod.snr_freq_array(net2.hfp, psd, f)"
   ]
  },
  {
   "cell_type": "code",
   "execution_count": null,
   "id": "a5fbf6fa",
   "metadata": {},
   "outputs": [],
   "source": [
    "del_hf1_keys = list(net1.del_hfpc.keys())\n",
    "del_hf1_vals = list(net1.del_hfpc.values())"
   ]
  },
  {
   "cell_type": "code",
   "execution_count": null,
   "id": "71dfe783",
   "metadata": {},
   "outputs": [],
   "source": [
    "del_hfp1 = {}\n",
    "for i in range (len(del_hf1_keys)):\n",
    "    if del_hf1_keys[i][-1:-4:-1] == 'pfh':\n",
    "        #print(del_hf2_vals[i], del_hf2_keys[i])\n",
    "        del_hfp1[del_hf1_keys[i]] = del_hf1_vals[i][1:]\n",
    "\n",
    "del_hfp1_list = list(del_hfp1.values())"
   ]
  },
  {
   "cell_type": "code",
   "execution_count": null,
   "id": "898c2fbb",
   "metadata": {},
   "outputs": [],
   "source": [
    "from scipy.integrate import simps\n",
    "def scalar_product_freq_array(integrand, freqs, df=None):\n",
    "    if df is None:\n",
    "        return np.real(simps(integrand,freqs))\n",
    "    else:\n",
    "        return"
   ]
  },
  {
   "cell_type": "code",
   "execution_count": null,
   "id": "cec8428e",
   "metadata": {},
   "outputs": [],
   "source": [
    "f7_3 = scalar_product_freq_array(np.power(f,-7/3)/psd, f)\n",
    "f7_3"
   ]
  },
  {
   "cell_type": "code",
   "execution_count": null,
   "id": "252aba75",
   "metadata": {},
   "outputs": [],
   "source": [
    "psi_1 = np.unwrap(np.angle(net1.hfp[1:]))\n",
    "psi_2 = np.unwrap(np.angle(net2.hfp[1:]))\n"
   ]
  },
  {
   "cell_type": "code",
   "execution_count": null,
   "id": "5fccb1f6",
   "metadata": {},
   "outputs": [],
   "source": [
    "def calc_sys_errs(psi_h, psi_g, del_hfp_list, hfp, rho, cov_mat, psd, f, deriv_symbs_list, conv_log):\n",
    "    \n",
    "    f7_3 = scalar_product_freq_array(np.power(f,-7/3)/psd, f)\n",
    "    leng = len(deriv_symbs_list)\n",
    "    sys_errs = np.zeros(leng)\n",
    "\n",
    "    for i in range(leng):\n",
    "        if deriv_symbs_list[i] in conv_log:\n",
    "            deriv_symbs_list[i] = 'log_' + deriv_symbs_list[i]\n",
    "        for j in range(leng):\n",
    "            integ = -1j * np.power(f,-7/3)/psd * (psi_g - psi_h) * del_hfp_list[j] / hfp\n",
    "            sys_errs[i] += rho**2  / f7_3 * cov_mat[i][j] * scalar_product_freq_array(integ, f)\n",
    "    sys_errs = np.abs(sys_errs)\n",
    "            \n",
    "    print(sys_errs)\n",
    "    sys_errs_dict = dict(zip(deriv_symbs_list, sys_errs))    \n",
    "    return sys_errs_dict"
   ]
  },
  {
   "cell_type": "code",
   "execution_count": null,
   "id": "41888384",
   "metadata": {},
   "outputs": [],
   "source": [
    "calc_sys_errs(psi_1, psi_2, del_hfp1_list, net1.hfp[1:], net1.snr, net1.cov, psd[1:], f[1:], deriv_symbs_string.split(), conv_log)"
   ]
  },
  {
   "cell_type": "code",
   "execution_count": null,
   "id": "0967127a",
   "metadata": {
    "scrolled": false
   },
   "outputs": [],
   "source": [
    "net2.errs"
   ]
  },
  {
   "cell_type": "code",
   "execution_count": null,
   "id": "9e55d1fb",
   "metadata": {},
   "outputs": [],
   "source": [
    "net1.errs"
   ]
  },
  {
   "cell_type": "code",
   "execution_count": null,
   "id": "4eb5507b",
   "metadata": {},
   "outputs": [],
   "source": []
  }
 ],
 "metadata": {
  "kernelspec": {
   "display_name": "envgwbench",
   "language": "python",
   "name": "envgwbench"
  },
  "language_info": {
   "codemirror_mode": {
    "name": "ipython",
    "version": 3
   },
   "file_extension": ".py",
   "mimetype": "text/x-python",
   "name": "python",
   "nbconvert_exporter": "python",
   "pygments_lexer": "ipython3",
   "version": "3.7.16"
  }
 },
 "nbformat": 4,
 "nbformat_minor": 5
}
