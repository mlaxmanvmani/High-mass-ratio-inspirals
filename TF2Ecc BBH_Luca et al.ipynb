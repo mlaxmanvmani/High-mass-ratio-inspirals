{
 "cells": [
  {
   "cell_type": "code",
   "execution_count": 1,
   "id": "d9b38a98-87ec-4c21-bccc-b4db4b103d58",
   "metadata": {},
   "outputs": [],
   "source": [
    "# added to remove some of the performance warnings\n",
    "import warnings\n",
    "warnings.filterwarnings(\"ignore\", \"Wswiglal-redir-stdio\")\n",
    "import lal\n",
    "\n",
    "from argparse import ArgumentParser\n",
    "import numpy as np\n",
    "from lal import GreenwichMeanSiderealTime\n",
    "from gwbench import Network"
   ]
  },
  {
   "cell_type": "code",
   "execution_count": 2,
   "id": "b32bc766-cc18-4483-b95b-0171a0c09d40",
   "metadata": {},
   "outputs": [
    {
     "data": {
      "text/plain": [
       "_StoreAction(option_strings=['-f'], dest='f', nargs=None, const=None, default=None, type=None, choices=None, required=False, help=None, metavar=None)"
      ]
     },
     "execution_count": 2,
     "metadata": {},
     "output_type": "execute_result"
    }
   ],
   "source": [
    "np.set_printoptions(linewidth=200)\n",
    "\n",
    "parser = ArgumentParser()\n",
    "parser.add_argument('--derivs', type = str, help = 'Specify wich differentiation method to use: [num, sym].', default = 'num')\n",
    "\n",
    "parser.add_argument(\"-f\", required=False)"
   ]
  },
  {
   "cell_type": "code",
   "execution_count": 3,
   "id": "1bfe4cfa-e11d-434f-b04f-36cb9832beb6",
   "metadata": {},
   "outputs": [],
   "source": [
    "# choose between numeric or symbolic derivatives ['num', 'sym']\n",
    "derivs = parser.parse_args().derivs\n",
    "\n",
    "# user's choice: waveform to use\n",
    "wf_model_name = 'lal_bbh'\n",
    "wf_other_var_dic = {'approximant':'TaylorF2ecc'}\n",
    "\n",
    "user_waveform = None"
   ]
  },
  {
   "cell_type": "code",
   "execution_count": 4,
   "id": "eaed6dea-6d31-4a43-a041-f9ef53c3d8e4",
   "metadata": {},
   "outputs": [],
   "source": [
    "# example detector location defined by user (keep it empty if the detector tech is not custom defined )\n",
    "user_locs = {}\n",
    "\n",
    "# example detector psd defined by the user (keep it empty if the detector tech is not custom defined )\n",
    "user_psds = {}\n",
    "\n",
    "# user's choice: with respect to which parameters to take derivatives for the Fisher analysis\n",
    "deriv_symbs_string = 'Mc eta DL tc phic e0 ra dec psi iota'\n",
    "\n",
    "# user's choice: convert derivatives to cos or log for specific variables\n",
    "conv_cos = ('dec', 'iota')\n",
    "conv_log = ('Mc', 'DL')\n",
    "\n",
    "# if numeric  derivatives, user's decision\n",
    "use_rot = 0\n",
    "\n",
    "# calculate SNRs, error matrices, and errors only for the network (If 1, will calculate the mentioned values only for network otherwise\n",
    "# will calculate it for detectors as well as network)\n",
    "only_net = 1\n",
    "\n",
    "# = None for no parallelization, = 2,3,4,... to allocate N cores (even numbers preferred)\n",
    "num_cores = None"
   ]
  },
  {
   "cell_type": "code",
   "execution_count": 5,
   "id": "faaafbbd-f358-4fcf-92f1-5ab11a0f967e",
   "metadata": {},
   "outputs": [],
   "source": [
    "# options for numeric derivative calculation\n",
    "# user's choice: switch particular partial derivatives to be analytical, options = [DL,tc,phic,ra,dec,psi]\n",
    "ana_deriv_symbs_string = None\n",
    "\n",
    "# choose numdifftools parameters for numerical derivatives\n",
    "step      = 1e-9\n",
    "method    = 'central'\n",
    "order     = 2\n",
    "\n",
    "# only relevant for symbolic derivatives\n",
    "gen_derivs = None\n"
   ]
  },
  {
   "cell_type": "code",
   "execution_count": 6,
   "id": "b57951dc-3c27-4bec-aa86-f6e3fb09efd0",
   "metadata": {},
   "outputs": [
    {
     "name": "stdout",
     "output_type": "stream",
     "text": [
      "network spec:  ['ET_V', 'CE-40_H', 'CE-40_L']\n",
      "\n"
     ]
    }
   ],
   "source": [
    "# 'user-tec_user-loc' is for custom define detector and its location\n",
    "network_spec = ['ET_V', 'CE-40_H', 'CE-40_L']\n",
    "\n",
    "print('network spec: ', network_spec)\n",
    "print()"
   ]
  },
  {
   "cell_type": "code",
   "execution_count": 12,
   "id": "5a3152ca-81ff-43e5-91c6-402ef26d3390",
   "metadata": {},
   "outputs": [],
   "source": [
    "import astropy as ap\n",
    "from gwbench.utils import MTsun\n",
    "from gwbench.basic_relations import DL_of_z_ap_cosmo, f_isco, f_isco_Msolar, M_of_Mc_eta, Mc_of_m1_m2, Mc_of_M_eta, eta_of_q\n",
    "\n",
    "# Has to chosen by user\n",
    "realizations=1000\n",
    "\n",
    "# Function to generate a random individual masses from a log-uniform distribution\n",
    "def log_uniform(min_val, max_val, size=realizations):\n",
    "    \"\"\"\n",
    "    Generate a random number from a log-uniform distribution.\n",
    "\n",
    "    Parameters:\n",
    "    min_val (float): Minimum value of the distribution.\n",
    "    max_val (float): Maximum value of the distribution.\n",
    "\n",
    "    Returns:\n",
    "    float: Random number from log-uniform distribution.\n",
    "    \"\"\"\n",
    "    return np.exp(np.random.uniform(np.log(min_val), np.log(max_val), size))\n",
    "\n",
    "\n",
    "# choose the individual masses acc to the lower sensitivity of the detector\n",
    "mass1 = log_uniform(5, 400)\n",
    "mass2 = log_uniform(5, 400)\n",
    "\n",
    "total_mass = mass1+mass2\n",
    "massRatio = mass1/mass2\n",
    "Mc = Mc_of_m1_m2(mass1, mass2)\n",
    "eta = eta_of_q(massRatio)\n",
    "\n",
    "ecc = log_uniform(0.01, 0.2)\n",
    "\n",
    "z = np.random.uniform(0, 20, size=realizations)\n",
    "DL = DL_of_z_ap_cosmo(z, cosmo=None)\n",
    "\n",
    "cos_iota = np.cos(np.random.uniform(0, np.pi, size=realizations))\n",
    "cos_dec = np.cos(np.random.uniform(0, np.pi, size=realizations))\n",
    "\n",
    "iota = np.arccos(cos_iota)\n",
    "ra = np.random.uniform(0, 2 * np.pi, size=realizations)\n",
    "dec = np.arccos(cos_dec)\n",
    "psi = np.random.uniform(0, 2 * np.pi, size=realizations)"
   ]
  },
  {
   "cell_type": "code",
   "execution_count": null,
   "id": "e3eab24e-f63c-438a-bcf5-b1ae790f050d",
   "metadata": {},
   "outputs": [],
   "source": [
    "# Store SNRs and errors for each set of parameters\n",
    "snrs = []\n",
    "errors = []\n",
    "\n",
    "for i in range(realizations):\n",
    "    inj_params = {\n",
    "        'Mc': Mc[i]*(1+z[i]), # redshifted Mc\n",
    "        'e0': ecc[i],\n",
    "        'eta': eta[i],\n",
    "        'chi1x': 0.,\n",
    "        'chi1y': 0.,\n",
    "        'chi1z': 0.,\n",
    "        'chi2x': 0.,\n",
    "        'chi2y': 0.,\n",
    "        'chi2z': 0.,\n",
    "        'DL': DL[i],\n",
    "        'tc': 0.,\n",
    "        'phic': 0.,\n",
    "        'iota': iota[i],\n",
    "        'ra': ra[i],\n",
    "        'dec': dec[i],\n",
    "        'psi': psi[i],\n",
    "        'gmst0': 0.,\n",
    "        'z': z[i],\n",
    "    }\n",
    "    # choose f_low acc to the detectors in the network\n",
    "    f_hi = f_isco_Msolar(total_mass[i])\n",
    "    df = 2.**-4\n",
    "    f_lo = 3\n",
    "    f = np.arange(f_lo, f_hi + df, df)\n",
    "\n",
    "    # Initialize the Network object\n",
    "    net = Network(network_spec, logger_name='CSU', logger_level='INFO')\n",
    "\n",
    "    # Set network variables for the current injection parameters\n",
    "    net.set_net_vars(\n",
    "        wf_model_name=wf_model_name,\n",
    "        wf_other_var_dic=wf_other_var_dic,\n",
    "        user_waveform=user_waveform,\n",
    "        f=f,\n",
    "        inj_params=inj_params,\n",
    "        deriv_symbs_string=deriv_symbs_string,\n",
    "        conv_cos=conv_cos,\n",
    "        conv_log=conv_log,\n",
    "        use_rot=use_rot,\n",
    "        user_locs=user_locs,\n",
    "        user_psds=user_psds,\n",
    "        ana_deriv_symbs_string=ana_deriv_symbs_string\n",
    "    )\n",
    "\n",
    "    # Perform analysis to calculate errors and SNR\n",
    "    net.calc_errors(\n",
    "        only_net=only_net,\n",
    "        derivs=derivs,\n",
    "        step=step,\n",
    "        method=method,\n",
    "        order=order,\n",
    "        gen_derivs=gen_derivs,\n",
    "        num_cores=num_cores\n",
    "    )\n",
    "    \n",
    "    # Extract the snr\n",
    "    net.calc_snrs()\n",
    "    snrs.append(net.snr)\n",
    "\n",
    "    # Extract the error for one of the params\n",
    "    # error = net.errs.get('log_Mc')\n",
    "    # errors.append(error)\n",
    "    errors.append(net.errs)\n",
    "\n",
    "print(\"SNRs for n realizations:\")\n",
    "print(snrs)\n",
    "print(\"\\nErrors for n realizations:\")\n",
    "print(errors)"
   ]
  },
  {
   "cell_type": "code",
   "execution_count": 20,
   "id": "b9043b2d-0370-449f-9aad-09d76253c5f3",
   "metadata": {},
   "outputs": [
    {
     "data": {
      "image/png": "[encoded data removed]",
      "text/plain": [
       "<Figure size 800x600 with 1 Axes>"
      ]
     },
     "metadata": {},
     "output_type": "display_data"
    }
   ],
   "source": [
    "import matplotlib.pyplot as plt\n",
    "#%matplotlib widget\n",
    "\n",
    "# Plotting the histogram\n",
    "plt.figure(figsize=(8, 6))\n",
    "\n",
    "# Determine the range of SNR values\n",
    "min_snr = np.min(snrs)\n",
    "max_snr = np.max(snrs)\n",
    "\n",
    "log_min_snr = np.log10(min_snr)\n",
    "log_max_snr = np.log10(max_snr)\n",
    "num_bins = 50  # Adjust the number of bins as needed\n",
    "bin_edges = np.logspace(log_min_snr, log_max_snr, num=num_bins)\n",
    "\n",
    "# plt.hist(snrsEcc, bins=80, edgecolor='black', alpha=0.7)\n",
    "plt.hist(snrs, bins=bin_edges, edgecolor='black', alpha=0.7)\n",
    "\n",
    "plt.xlim([10,1000])\n",
    "# plt.ylim([1,None])\n",
    "\n",
    "plt.title('SNRs for 1000 random uniform realizations')\n",
    "\n",
    "plt.xscale('log')\n",
    "# plt.yscale('log')\n",
    "\n",
    "plt.xlabel('$SNR$')\n",
    "plt.ylabel('No of events')\n",
    "\n",
    "# plt.tick_params(width=1, color=\"black\", direction=\"in\", which=\"minor\", right=\"true\", length=7.5)\n",
    "# plt.tick_params(width=1, color=\"black\", direction=\"in\", which=\"major\", right=\"true\", length=10)\n",
    "\n",
    "plt.tick_params(width=1, color=\"black\", direction=\"in\", which=\"minor\", bottom=\"true\", length=0.5)\n",
    "plt.tick_params(width=1, color=\"black\", direction=\"in\", which=\"major\", bottom=\"true\", length=5)\n",
    "\n",
    "plt.grid(True)\n",
    "\n",
    "# plt.savefig(\"Hist_eccSNR_1000Realz_ETVCEHLflow3_m1m25to400_e0p01to0p2_z0to20.pdf\", dpi=500, bbox_inches='tight')\n",
    "plt.show()\n",
    "# plt.close('all')"
   ]
  },
  {
   "cell_type": "code",
   "execution_count": null,
   "id": "30a17b47-a0b0-4118-bffd-0df8f9ec5236",
   "metadata": {},
   "outputs": [],
   "source": []
  }
 ],
 "metadata": {
  "kernelspec": {
   "display_name": "Python (gwbench)",
   "language": "python",
   "name": "gwbench"
  },
  "language_info": {
   "codemirror_mode": {
    "name": "ipython",
    "version": 3
   },
   "file_extension": ".py",
   "mimetype": "text/x-python",
   "name": "python",
   "nbconvert_exporter": "python",
   "pygments_lexer": "ipython3",
   "version": "3.9.19"
  }
 },
 "nbformat": 4,
 "nbformat_minor": 5
}
