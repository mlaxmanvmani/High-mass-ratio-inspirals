{
 "cells": [
  {
   "cell_type": "code",
   "execution_count": 16,
   "id": "676f9fe9",
   "metadata": {},
   "outputs": [],
   "source": [
    "%reset -f"
   ]
  },
  {
   "cell_type": "code",
   "execution_count": 17,
   "id": "af669173",
   "metadata": {},
   "outputs": [],
   "source": [
    "import numpy as np"
   ]
  },
  {
   "cell_type": "code",
   "execution_count": 18,
   "id": "62f54fdb",
   "metadata": {},
   "outputs": [],
   "source": [
    "# import numdifftools as nd\n",
    "# from gwbench.basic_constants import time_fac, strain_fac\n",
    "# import gwbench.detector_response_derivatives as drd\n",
    "# import gwbench.snr as snr_mod\n",
    "# import wf_derivatives_num as wfd_num\n",
    "# import gwbench.err_deriv_handling as edh"
   ]
  },
  {
   "cell_type": "code",
   "execution_count": 19,
   "id": "ad70b62f",
   "metadata": {},
   "outputs": [],
   "source": [
    "PI = np.pi"
   ]
  },
  {
   "cell_type": "code",
   "execution_count": 20,
   "id": "c492d6fe",
   "metadata": {},
   "outputs": [],
   "source": [
    "import gwbench.basic_constants as bc"
   ]
  },
  {
   "cell_type": "code",
   "execution_count": 21,
   "id": "20f9a6bf",
   "metadata": {},
   "outputs": [],
   "source": [
    "# Injection parameter calculation\n",
    "\n",
    "# e0 = 0.0\n",
    "# chi1z = 0.0\n",
    "# chi2z = 0.0\n",
    "\n",
    "tc = 0.0\n",
    "phic = 0.0\n",
    "\n",
    "M1_solar = 1.4    # Change the mass of the binary\n",
    "M2_solar = 1.4\n",
    "\n",
    "M_solar = M1_solar + M2_solar          # Total mass in solar mass unit\n",
    "M_SI = M_solar*bc.Msun                 # Total mass in SI unit\n",
    "M_sec = M_SI*bc.GNewton/bc.cLight**3   # Total mass in seconds\n",
    "\n",
    "eta = (M1_solar*M2_solar/(M_solar)**2) \n",
    "\n",
    "Mc_solar = M_solar*eta**(3/5)          # Chirp mass in solar mass unit\n",
    "Mc = M_sec*eta**(3/5)                  # Chirp mass in seconds\n",
    "\n",
    "# print(Mc_solar)\n",
    "# print(Mc)"
   ]
  },
  {
   "cell_type": "code",
   "execution_count": 22,
   "id": "58686275",
   "metadata": {},
   "outputs": [],
   "source": [
    "import aiss_model_np as aiss_np     # loading the PSD and can be change from the script\n",
    "from scipy.integrate import quad    # "
   ]
  },
  {
   "cell_type": "code",
   "execution_count": 23,
   "id": "ddef2a8c",
   "metadata": {},
   "outputs": [],
   "source": [
    "# Choose the PSD and the desired frequency range\n",
    "\n",
    "# Fs = 4096\n",
    "\n",
    "\n",
    "fs = 20\n",
    "flso = (6.**(3/2) * PI * M_sec)**(-1)\n",
    "\n",
    "# deltaF = 2**(-2.9)\n",
    "# f = np.arange(0, Fs, deltaF)\n",
    "\n",
    "# i_fs = int((fs-0)/deltaF)\n",
    "# i_flso = int((flso-0)/deltaF) + 1\n",
    "\n",
    "# f = f[i_fs:i_flso]\n",
    "\n",
    "f = np.arange(fs, flso, 1)\n",
    "\n",
    "psd_func = aiss_np.Sh_aLIGO \n",
    "psd = psd_func(f)\n",
    "\n",
    "# Calculating Amplitude corresponding to SNR 10\n",
    "rho0  = 10\n",
    "\n",
    "def integrand(f1):\n",
    "    return f1**(-7/3) / psd_func(f1)\n",
    "\n",
    "ans, err = quad(integrand, f[0], flso) # quad returns the answer of the quadrature sum and the error, the error is quite high\n",
    "A =  (rho0**2 / (4*ans))**0.5\n",
    "\n",
    "DL = ((5./24.)**0.5/PI**(2./3.))*(Mc**(5./6.)/A) # From AISS\n",
    "DL_Mpc = DL*bc.cLight/bc.Mpc\n",
    "\n",
    "\n",
    "# print(DL)\n",
    "# print(A)\n",
    "# print(flso)\n",
    "# print(f[-1])\n",
    "# print(f)"
   ]
  },
  {
   "cell_type": "markdown",
   "id": "319216c5",
   "metadata": {},
   "source": [
    "## User Choices"
   ]
  },
  {
   "cell_type": "markdown",
   "id": "ea06ab2b",
   "metadata": {},
   "source": [
    "#### choose the desired detectors"
   ]
  },
  {
   "cell_type": "code",
   "execution_count": 24,
   "id": "033b9dab",
   "metadata": {},
   "outputs": [],
   "source": [
    "# network_spec = ['aLIGO_H']"
   ]
  },
  {
   "cell_type": "code",
   "execution_count": 25,
   "id": "fbc07e27",
   "metadata": {},
   "outputs": [],
   "source": [
    "from network_check import Network # \"Network\" is a class\n",
    "import gwbench.wf_class as wfc   # \"wfc\" is a class"
   ]
  },
  {
   "cell_type": "markdown",
   "id": "aac3f099",
   "metadata": {},
   "source": [
    "#### initialize the network with the desired detectors"
   ]
  },
  {
   "cell_type": "code",
   "execution_count": null,
   "id": "afcddd27",
   "metadata": {},
   "outputs": [],
   "source": [
    "net = Network()  # \"net\" is an object inside the class \"Network\"\n",
    "net.wf = wfc.Waveform()\n",
    "\n",
    "# print(net.wf)"
   ]
  },
  {
   "cell_type": "markdown",
   "id": "f4852cff",
   "metadata": {},
   "source": [
    "#### choose the desired waveform "
   ]
  },
  {
   "cell_type": "code",
   "execution_count": null,
   "id": "93516167",
   "metadata": {},
   "outputs": [],
   "source": [
    "import wf_models.tf2_2_np as tf2_2_np\n",
    "import wf_models.tf2_2_sp as tf2_2_sp"
   ]
  },
  {
   "cell_type": "markdown",
   "id": "5989d7fc",
   "metadata": {},
   "source": [
    "#### pass the chosen waveform to the network for initialization"
   ]
  },
  {
   "cell_type": "code",
   "execution_count": null,
   "id": "5f576485",
   "metadata": {},
   "outputs": [],
   "source": [
    "def select_wf_model_quants(self):\n",
    "    np_mod = tf2_2_np\n",
    "    sp_mod = tf2_2_sp \n",
    "    \n",
    "    if sp_mod is None: sp_tmp = None\n",
    "    else:              sp_tmp = sp_mod.hfpc\n",
    "        \n",
    "    return np_mod.wf_symbs_string, np_mod.hfpc, sp_tmp\n",
    "\n",
    "net.wf.wf_symbs_string, net.wf.hfpc_np, net.wf.hfpc_sp = select_wf_model_quants(net)"
   ]
  },
  {
   "cell_type": "markdown",
   "id": "30b6c375",
   "metadata": {},
   "source": [
    "#### set the injection parameters"
   ]
  },
  {
   "cell_type": "code",
   "execution_count": null,
   "id": "11640284",
   "metadata": {},
   "outputs": [],
   "source": [
    "inj_params = {\n",
    "    'Mc':    Mc_solar,\n",
    "    'eta':   0.2499,\n",
    "    'chi1z': 0,\n",
    "    'chi2z': 0,\n",
    "    'DL':    DL_Mpc,\n",
    "    'tc':    tc,\n",
    "    'phic':  phic,\n",
    "    'iota':  0,\n",
    "    'ra':    0,\n",
    "    'dec':   0.0,\n",
    "    'psi':   0,\n",
    "    'gmst0': 0\n",
    "    }"
   ]
  },
  {
   "cell_type": "markdown",
   "id": "34032861",
   "metadata": {},
   "source": [
    "#### assign with respect to which parameters to take derivatives"
   ]
  },
  {
   "cell_type": "code",
   "execution_count": null,
   "id": "0c72ea22",
   "metadata": {},
   "outputs": [],
   "source": [
    "deriv_symbs_string = 'Mc eta tc phic'"
   ]
  },
  {
   "cell_type": "markdown",
   "id": "eacc22c3",
   "metadata": {},
   "source": [
    "#### assign which parameters to convert to cos or log versions"
   ]
  },
  {
   "cell_type": "code",
   "execution_count": null,
   "id": "3f19fe92",
   "metadata": {},
   "outputs": [],
   "source": [
    "conv_cos = ()\n",
    "conv_log = ('Mc', 'eta')"
   ]
  },
  {
   "cell_type": "markdown",
   "id": "f8ae7af8",
   "metadata": {},
   "source": [
    "#### choose whether to take Earth's rotation into account"
   ]
  },
  {
   "cell_type": "code",
   "execution_count": null,
   "id": "bda23c24",
   "metadata": {},
   "outputs": [],
   "source": [
    "use_rot = 0"
   ]
  },
  {
   "cell_type": "markdown",
   "id": "bf3d4840",
   "metadata": {},
   "source": [
    "#### pass all these variables to the network"
   ]
  },
  {
   "cell_type": "code",
   "execution_count": null,
   "id": "0102e5bd",
   "metadata": {},
   "outputs": [],
   "source": [
    "net.set_net_vars(\n",
    "    f=f, inj_params=inj_params,\n",
    "    deriv_symbs_string=deriv_symbs_string,\n",
    "    conv_cos=conv_cos, conv_log=conv_log,\n",
    "    use_rot=use_rot\n",
    "    )"
   ]
  },
  {
   "cell_type": "markdown",
   "id": "f26d739a",
   "metadata": {},
   "source": [
    "## GW benchmarking"
   ]
  },
  {
   "cell_type": "markdown",
   "id": "87f9edab",
   "metadata": {},
   "source": [
    "#### compute the WF polarizations and their derivatives"
   ]
  },
  {
   "cell_type": "code",
   "execution_count": null,
   "id": "83d29bca",
   "metadata": {},
   "outputs": [],
   "source": [
    "net.calc_wf_polarizations()"
   ]
  },
  {
   "cell_type": "code",
   "execution_count": null,
   "id": "888b7576",
   "metadata": {
    "scrolled": true
   },
   "outputs": [],
   "source": [
    "net.calc_wf_polarizations_derivs_num()"
   ]
  },
  {
   "cell_type": "code",
   "execution_count": null,
   "id": "1da5a107",
   "metadata": {},
   "outputs": [],
   "source": [
    "import gwbench.basic_functions as bfs\n",
    "import fisher_analysis_tools as fat"
   ]
  },
  {
   "cell_type": "code",
   "execution_count": null,
   "id": "b13828a8",
   "metadata": {},
   "outputs": [],
   "source": [
    "deriv_symbs_list = deriv_symbs_string.split(' ')\n",
    "deriv_hfp_list = ['del_' + ('log_' + item if item in conv_log else item) + '_hfp' for item in deriv_symbs_list]\n",
    "del_vs_f_dic = bfs.get_sub_dict(net.del_hfpc,deriv_hfp_list,1)\n",
    "\n",
    "net.fisher, net.cov, net.wc_fisher, net.cond_num = fat.calc_fisher_cov_matrices(list(del_vs_f_dic.values()), psd, f, 0)\n",
    "net.errs = fat.get_errs_from_cov(net.cov, net.deriv_variables)\n"
   ]
  },
  {
   "cell_type": "code",
   "execution_count": null,
   "id": "c4d24eb4",
   "metadata": {},
   "outputs": [],
   "source": [
    "#print error values\n",
    "\n",
    "from math import floor, log10\n",
    "\n",
    "def round_n(x, n):\n",
    "    return round(x, n - int(floor(log10(abs(x)))) - 1)\n",
    "\n",
    "\n",
    "# print the contents of the network objects\n",
    "\n",
    "print(\"tc(ms): \", round_n(net.errs['tc']*1000,5)) # 1000 here is for sec to msec conversion\n",
    "print(\"phic: \", round_n(net.errs['phic'], 5))\n",
    "print(\"log_Mch: \", round_n(net.errs['log_Mc']*100,5)) # 100 here is for percentage error\n",
    "print(\"log_eta: \", round_n(net.errs['log_eta']*100,5)) # 100 here is for percentage error\n",
    "# print(\"log_e0: \", round_n(net.errs['log_e0'],4))\n",
    "print()\n"
   ]
  },
  {
   "cell_type": "code",
   "execution_count": null,
   "id": "c69b1de4",
   "metadata": {},
   "outputs": [],
   "source": [
    "# tc(ms):  0.51937\n",
    "# phic:  1.2794\n",
    "# log_Mch:  0.013327\n",
    "# log_eta:  1.319"
   ]
  },
  {
   "cell_type": "markdown",
   "id": "a727f1ae",
   "metadata": {},
   "source": [
    "#### setup antenna patterns, location phase factors, and PSDs"
   ]
  },
  {
   "cell_type": "code",
   "execution_count": null,
   "id": "f043d00f",
   "metadata": {},
   "outputs": [],
   "source": [
    "# from numpy import power, logical_and"
   ]
  },
  {
   "cell_type": "code",
   "execution_count": null,
   "id": "84090092",
   "metadata": {},
   "outputs": [],
   "source": [
    "# def f1(f):\n",
    "#     x = f/215\n",
    "#     return 1.e-49 * (power(x,-4.14) - 5 * power(x, -2) +\n",
    "#                 111 * (1 - power(x, 2) + power(x, 4) / 2) / (1 + power(x, 2) / 2)) "
   ]
  },
  {
   "cell_type": "code",
   "execution_count": null,
   "id": "35993da2",
   "metadata": {},
   "outputs": [],
   "source": [
    "# def f2(f):\n",
    "#     x = f/245.4\n",
    "#     return 1.e-48 * ( 0.0152 * power(x,-4.) + 0.2935 * power(x,9./4) +\n",
    "#                 2.7951 * power(x,3./2) - 6.5080 * power(x,3./4) + 17.7622)"
   ]
  },
  {
   "cell_type": "code",
   "execution_count": null,
   "id": "feb30c5f",
   "metadata": {},
   "outputs": [],
   "source": [
    "# f_lo = 10\n",
    "# f_hi = 2048"
   ]
  },
  {
   "cell_type": "markdown",
   "id": "8d3d0609",
   "metadata": {},
   "source": [
    "for i in range(3):\n",
    "    net.detectors[i].psd, net.f = f1(f[logical_and(f>=f_lo,f<=f_hi)]), f[logical_and(f>=f_lo,f<=f_hi)]"
   ]
  },
  {
   "cell_type": "markdown",
   "id": "5e0570be",
   "metadata": {},
   "source": [
    "#### compute the detector responses and their derivatives"
   ]
  },
  {
   "cell_type": "markdown",
   "id": "45f4cbc9",
   "metadata": {},
   "source": [
    "net.calc_det_responses()"
   ]
  },
  {
   "cell_type": "markdown",
   "id": "7e4768b8",
   "metadata": {},
   "source": [
    "net.calc_det_responses_derivs_num()"
   ]
  },
  {
   "cell_type": "markdown",
   "id": "e703a4d7",
   "metadata": {},
   "source": [
    "net.calc_snrs()"
   ]
  },
  {
   "cell_type": "markdown",
   "id": "fe004b4f",
   "metadata": {},
   "source": [
    "#### calculate the network and detector Fisher matrices, condition numbers, covariance matrices, error estimates, and inversion errors"
   ]
  },
  {
   "cell_type": "markdown",
   "id": "dfb9823f",
   "metadata": {},
   "source": [
    "net.calc_errors()"
   ]
  },
  {
   "cell_type": "markdown",
   "id": "04a5062b",
   "metadata": {},
   "source": [
    "net.cov"
   ]
  },
  {
   "cell_type": "markdown",
   "id": "a4e0e7a8",
   "metadata": {},
   "source": [
    "net.errs"
   ]
  },
  {
   "cell_type": "markdown",
   "id": "c87af580",
   "metadata": {},
   "source": [
    "net.print_detectors()"
   ]
  },
  {
   "cell_type": "markdown",
   "id": "c0d442d1",
   "metadata": {},
   "source": [
    "net.snr"
   ]
  },
  {
   "cell_type": "markdown",
   "id": "0ed9cc58",
   "metadata": {},
   "source": [
    "def calc_det_responses(self, wf, inj_params, Fp, Fc, Flp):\n",
    "        hfp, hfc = wf.eval_np_func(self.f,bfs.get_sub_dict(inj_params,wf.wf_symbs_string))\n",
    "        return Flp * (hfp * Fp + hfc * Fc)"
   ]
  },
  {
   "cell_type": "markdown",
   "id": "650035fd",
   "metadata": {},
   "source": [
    "hf1 = calc_det_responses(net, net.wf, inj_params, Fp, Fc, Flp)"
   ]
  },
  {
   "cell_type": "markdown",
   "id": "0db87594",
   "metadata": {
    "scrolled": true
   },
   "source": [
    "net.hfp"
   ]
  },
  {
   "cell_type": "code",
   "execution_count": null,
   "id": "72f68ee7",
   "metadata": {},
   "outputs": [],
   "source": [
    "# psd1 = f1(f[logical_and(f>=f_lo,f<=f_hi)])\n",
    "# cond_sup = 1e15\n",
    "# by_element = 0"
   ]
  },
  {
   "cell_type": "code",
   "execution_count": null,
   "id": "4e762c23",
   "metadata": {},
   "outputs": [],
   "source": [
    "# def get_conv_del_eval_dic(del_eval_dic, params_dic, conv_cos, conv_log, deriv_symbs_string):\n",
    "#     if conv_cos is None and conv_log is None:\n",
    "#         return del_eval_dic, {}\n",
    "#     else:\n",
    "#         conv_dic = {}\n",
    "#         c_quants = {}\n",
    "\n",
    "#         for deriv in del_eval_dic:\n",
    "#             key = '_'.join(deriv.split('_')[1:-1])\n",
    "#             c_key = None\n",
    "\n",
    "#             if conv_cos is not None and key in conv_cos:\n",
    "#                 c_deriv, c_key, c_val = edh.convert_to_cos_derivative(del_eval_dic[deriv],key,params_dic[key])\n",
    "#             elif conv_log is not None and key in conv_log:\n",
    "#                 c_deriv, c_key, c_val = edh.convert_to_log_derivative(del_eval_dic[deriv],key,params_dic[key])\n",
    "#             else:\n",
    "#                 conv_dic[deriv] = del_eval_dic[deriv]\n",
    "\n",
    "#             if c_key is not None:\n",
    "#                 c_quants[key] = (c_key, c_val)\n",
    "\n",
    "#                 prefix,suffix = deriv.split(key)\n",
    "#                 n_key = prefix + c_key + suffix\n",
    "#                 conv_dic[n_key] = c_deriv\n",
    "\n",
    "#         return conv_dic, c_quants"
   ]
  },
  {
   "cell_type": "code",
   "execution_count": null,
   "id": "77db8b39",
   "metadata": {},
   "outputs": [],
   "source": [
    "# ant_pat_symbs_string = 'f Mc tc ra dec psi gmst0'\n",
    "# def calc_det_responses_derivs(wf, deriv_symbs_string, f_arr, params_dic, use_rot=1, label='hf', step=1e-9, method='central', order=2, n=1):\n",
    "\n",
    "#     wf_symbs_list = wf.wf_symbs_string.split(' ')\n",
    "#     deriv_symbs_list = deriv_symbs_string.split(' ')\n",
    "\n",
    "#     if 'f' in wf_symbs_list:\n",
    "#         wf_symbs_list.remove('f')\n",
    "#     if 'f' in deriv_symbs_list:\n",
    "#         deriv_symbs_list.remove('f')\n",
    "\n",
    "    \n",
    "#     ap_symbs_list = ant_pat_symbs_string.split(' ')\n",
    "#     if 'f' in ap_symbs_list:\n",
    "#         ap_symbs_list.remove('f')\n",
    "\n",
    "#     dr_symbs_list = bfs.reduce_symbols_strings(wf.wf_symbs_string,ant_pat_symbs_string).split(' ')\n",
    "#     dr_params_list = list(bfs.get_sub_dict(params_dic,dr_symbs_list).values())\n",
    "\n",
    "#     def dr_func(f_arr,*dr_params_list):\n",
    "#         wf_list = []\n",
    "#         for i,el in enumerate(wf_symbs_list):\n",
    "#             wf_list.append(dr_params_list[dr_symbs_list.index(el)])\n",
    "\n",
    "#         ap_list = []\n",
    "#         for i,el in enumerate(ap_symbs_list):\n",
    "#             ap_list.append(dr_params_list[dr_symbs_list.index(el)])\n",
    "\n",
    "#         hfp, hfc = wf.eval_np_func(f_arr, wf_list)\n",
    "#         Fp, Fc, Flp = 1, 0, 1\n",
    "\n",
    "#         return Flp * (hfp * Fp + hfc * Fc)\n",
    "\n",
    "#     return wfd_num.part_deriv_hf_func(dr_func, dr_symbs_list, deriv_symbs_list, f_arr, params_dic, pl_cr=0, compl=1, label=label, step=step, method=method, order=order, n=n)"
   ]
  },
  {
   "cell_type": "code",
   "execution_count": null,
   "id": "02deeb2b",
   "metadata": {},
   "outputs": [],
   "source": [
    "# def calc_det_responses(self, wf, inj_params):\n",
    "#         hfp, hfc = wf.eval_np_func(self.f,bfs.get_sub_dict(inj_params,wf.wf_symbs_string))\n",
    "#         return hfp\n",
    "\n",
    "# def calc_det_responses_derivs_num(self, deriv_variables, inj_params, wf, deriv_symbs_string, conv_cos, conv_log, use_rot, step=1e-9, method='central', order=2, n=1):\n",
    "    \n",
    "#     self.hfp = calc_det_responses(net, net.wf, inj_params)\n",
    "#     del_hf = calc_det_responses_derivs(wf,deriv_symbs_string,self.f,inj_params,use_rot,'hf',step,method,order,n)\n",
    "#     del_hf, c_quants = get_conv_del_eval_dic(del_hf, inj_params, conv_cos, conv_log, deriv_symbs_string)\n",
    "    \n",
    "#     return del_hf"
   ]
  },
  {
   "cell_type": "code",
   "execution_count": null,
   "id": "2b00434b",
   "metadata": {},
   "outputs": [],
   "source": [
    "# del_hf = calc_det_responses_derivs_num(net, net.deriv_variables, inj_params, net.wf, deriv_symbs_string, conv_cos, conv_log, use_rot)"
   ]
  },
  {
   "cell_type": "code",
   "execution_count": null,
   "id": "6aca0469",
   "metadata": {},
   "outputs": [],
   "source": [
    "# def calc_fisher_cov_matrices(self, del_hf, only_net, psd, df, cond_sup):\n",
    "    \n",
    "#     del_hf_sub_dict = bfs.get_sub_dict(del_hf,('hf',),0)\n",
    "#     if not only_net:\n",
    "#         self.fisher, self.cov, self.wc_fisher, self.cond_num = fat.calc_fisher_cov_matrices(list(del_hf_sub_dict.values()), psd,self.f,0,df,cond_sup)\n",
    "#         return self.fisher\n",
    "#     else:\n",
    "#         fisher,_,_,_ = fat.calc_fisher_cov_matrices(list(del_hf_sub_dict.values()),psd,self.f,1,df,cond_sup)\n",
    "#         return fisher"
   ]
  },
  {
   "cell_type": "code",
   "execution_count": null,
   "id": "a83ea5dc",
   "metadata": {},
   "outputs": [],
   "source": [
    "# calc_fisher_cov_matrices(net, del_hf, 0, psd1, None, cond_sup)"
   ]
  },
  {
   "cell_type": "code",
   "execution_count": null,
   "id": "31bff985",
   "metadata": {},
   "outputs": [],
   "source": [
    "# net.wc_fisher, net.cond_num = fat.check_well_conditioned(net.fisher,cond_sup)"
   ]
  },
  {
   "cell_type": "code",
   "execution_count": null,
   "id": "c4ba659e",
   "metadata": {},
   "outputs": [],
   "source": [
    "# net.cov = fat.calc_cov_from_fisher(net.fisher,net.wc_fisher) \n",
    "# net.inv_err = fat.inv_err_from_fisher_cov(net.fisher,net.cov, by_element)\n",
    "# net.errs = fat.get_errs_from_cov(net.cov,net.deriv_variables)"
   ]
  },
  {
   "cell_type": "code",
   "execution_count": null,
   "id": "e1b4a810",
   "metadata": {},
   "outputs": [],
   "source": [
    "# net.errs"
   ]
  },
  {
   "cell_type": "code",
   "execution_count": null,
   "id": "8163d51c",
   "metadata": {
    "scrolled": true
   },
   "outputs": [],
   "source": [
    "# net.cov"
   ]
  },
  {
   "cell_type": "code",
   "execution_count": null,
   "id": "8c0bd42f",
   "metadata": {},
   "outputs": [],
   "source": [
    "# def calc_snrs(self, hf, psd, only_net, df):\n",
    "#     snr,snr_sq = snr_mod.snr_snr_sq_freq_array(hf, psd, self.f, df)\n",
    "#     if not only_net:\n",
    "#         self.snr = snr\n",
    "#         self.snr_sq = snr_sq\n",
    "#     return snr"
   ]
  },
  {
   "cell_type": "code",
   "execution_count": null,
   "id": "305234a0",
   "metadata": {
    "scrolled": true
   },
   "outputs": [],
   "source": [
    "# wf = net.wf\n",
    "# hfp, hfc = wf.eval_np_func(net.f,bfs.get_sub_dict(net.inj_params,wf.wf_symbs_string))\n",
    "# hf = hfp"
   ]
  },
  {
   "cell_type": "code",
   "execution_count": null,
   "id": "7d0585b0",
   "metadata": {},
   "outputs": [],
   "source": [
    "# calc_snrs(net, hf, psd1, 0, None)"
   ]
  }
 ],
 "metadata": {
  "kernelspec": {
   "display_name": "envgwbench",
   "language": "python",
   "name": "envgwbench"
  },
  "language_info": {
   "codemirror_mode": {
    "name": "ipython",
    "version": 3
   },
   "file_extension": ".py",
   "mimetype": "text/x-python",
   "name": "python",
   "nbconvert_exporter": "python",
   "pygments_lexer": "ipython3",
   "version": "3.7.16"
  }
 },
 "nbformat": 4,
 "nbformat_minor": 5
}
