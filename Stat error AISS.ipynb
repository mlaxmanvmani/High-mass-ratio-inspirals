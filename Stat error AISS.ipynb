{
 "cells": [
  {
   "cell_type": "code",
   "execution_count": 16,
   "id": "676f9fe9",
   "metadata": {},
   "outputs": [],
   "source": [
    "%reset -f"
   ]
  },
  {
   "cell_type": "code",
   "execution_count": 17,
   "id": "af669173",
   "metadata": {},
   "outputs": [],
   "source": [
    "import numpy as np"
   ]
  },
  {
   "cell_type": "code",
   "execution_count": 19,
   "id": "ad70b62f",
   "metadata": {},
   "outputs": [],
   "source": [
    "PI = np.pi"
   ]
  },
  {
   "cell_type": "code",
   "execution_count": 20,
   "id": "c492d6fe",
   "metadata": {},
   "outputs": [],
   "source": [
    "import gwbench.basic_constants as bc"
   ]
  },
  {
   "cell_type": "code",
   "execution_count": 21,
   "id": "20f9a6bf",
   "metadata": {},
   "outputs": [],
   "source": [
    "# Injection parameter calculation\n",
    "\n",
    "# e0 = 0.0\n",
    "# chi1z = 0.0\n",
    "# chi2z = 0.0\n",
    "\n",
    "tc = 0.0\n",
    "phic = 0.0\n",
    "\n",
    "M1_solar = 1.4    # Change the mass of the binary\n",
    "M2_solar = 1.4\n",
    "\n",
    "M_solar = M1_solar + M2_solar          # Total mass in solar mass unit\n",
    "M_SI = M_solar*bc.Msun                 # Total mass in SI unit\n",
    "M_sec = M_SI*bc.GNewton/bc.cLight**3   # Total mass in seconds\n",
    "\n",
    "eta = (M1_solar*M2_solar/(M_solar)**2) \n",
    "\n",
    "Mc_solar = M_solar*eta**(3/5)          # Chirp mass in solar mass unit\n",
    "Mc = M_sec*eta**(3/5)                  # Chirp mass in seconds\n",
    "\n",
    "# print(Mc_solar)\n",
    "# print(Mc)"
   ]
  },
  {
   "cell_type": "code",
   "execution_count": 22,
   "id": "58686275",
   "metadata": {},
   "outputs": [],
   "source": [
    "import aiss_model_np as aiss_np     # loading the PSD and can be change from the script\n",
    "from scipy.integrate import quad    # "
   ]
  },
  {
   "cell_type": "code",
   "execution_count": 23,
   "id": "ddef2a8c",
   "metadata": {},
   "outputs": [],
   "source": [
    "# Choose the PSD and the desired frequency range\n",
    "\n",
    "# Fs = 4096\n",
    "\n",
    "\n",
    "fs = 20\n",
    "flso = (6.**(3/2) * PI * M_sec)**(-1)\n",
    "\n",
    "# deltaF = 2**(-2.9)\n",
    "# f = np.arange(0, Fs, deltaF)\n",
    "\n",
    "# i_fs = int((fs-0)/deltaF)\n",
    "# i_flso = int((flso-0)/deltaF) + 1\n",
    "\n",
    "# f = f[i_fs:i_flso]\n",
    "\n",
    "f = np.arange(fs, flso, 0.1)\n",
    "\n",
    "psd_func = aiss_np.Sh_aLIGO \n",
    "psd = psd_func(f)\n",
    "\n",
    "# Calculating Amplitude corresponding to SNR 10\n",
    "rho0  = 10\n",
    "\n",
    "def integrand(f1):\n",
    "    return f1**(-7/3) / psd_func(f1)\n",
    "\n",
    "ans, err = quad(integrand, f[0], flso) # quad returns the answer of the quadrature sum and the error, the error is quite high\n",
    "A =  (rho0**2 / (4*ans))**0.5\n",
    "\n",
    "DL = ((5./24.)**0.5/PI**(2./3.))*(Mc**(5./6.)/A) # From AISS\n",
    "DL_Mpc = DL*bc.cLight/bc.Mpc\n",
    "\n",
    "\n",
    "# print(DL)\n",
    "# print(A)\n",
    "# print(flso)\n",
    "# print(f[-1])\n",
    "# print(f)"
   ]
  },
  {
   "cell_type": "markdown",
   "id": "319216c5",
   "metadata": {},
   "source": [
    "## User Choices"
   ]
  },
  {
   "cell_type": "markdown",
   "id": "ea06ab2b",
   "metadata": {},
   "source": [
    "#### choose the desired detectors"
   ]
  },
  {
   "cell_type": "code",
   "execution_count": 24,
   "id": "033b9dab",
   "metadata": {},
   "outputs": [],
   "source": [
    "# network_spec = ['aLIGO_H']"
   ]
  },
  {
   "cell_type": "code",
   "execution_count": 25,
   "id": "fbc07e27",
   "metadata": {},
   "outputs": [],
   "source": [
    "from network_check import Network # \"Network\" is a class\n",
    "import gwbench.wf_class as wfc   # \"wfc\" is a class"
   ]
  },
  {
   "cell_type": "markdown",
   "id": "aac3f099",
   "metadata": {},
   "source": [
    "#### initialize the network with the desired detectors"
   ]
  },
  {
   "cell_type": "code",
   "execution_count": null,
   "id": "afcddd27",
   "metadata": {},
   "outputs": [],
   "source": [
    "net = Network()  # \"net\" is an object inside the class \"Network\"\n",
    "net.wf = wfc.Waveform()\n",
    "\n",
    "# print(net.wf)"
   ]
  },
  {
   "cell_type": "markdown",
   "id": "f4852cff",
   "metadata": {},
   "source": [
    "#### choose the desired waveform "
   ]
  },
  {
   "cell_type": "code",
   "execution_count": null,
   "id": "93516167",
   "metadata": {},
   "outputs": [],
   "source": [
    "import wf_models.tf2_2_np as tf2_2_np\n",
    "import wf_models.tf2_2_sp as tf2_2_sp"
   ]
  },
  {
   "cell_type": "markdown",
   "id": "5989d7fc",
   "metadata": {},
   "source": [
    "#### pass the chosen waveform to the network for initialization"
   ]
  },
  {
   "cell_type": "code",
   "execution_count": null,
   "id": "5f576485",
   "metadata": {},
   "outputs": [],
   "source": [
    "def select_wf_model_quants(self):\n",
    "    np_mod = tf2_2_np\n",
    "    sp_mod = tf2_2_sp \n",
    "    \n",
    "    if sp_mod is None: sp_tmp = None\n",
    "    else:              sp_tmp = sp_mod.hfpc\n",
    "        \n",
    "    return np_mod.wf_symbs_string, np_mod.hfpc, sp_tmp\n",
    "\n",
    "net.wf.wf_symbs_string, net.wf.hfpc_np, net.wf.hfpc_sp = select_wf_model_quants(net)"
   ]
  },
  {
   "cell_type": "markdown",
   "id": "30b6c375",
   "metadata": {},
   "source": [
    "#### set the injection parameters"
   ]
  },
  {
   "cell_type": "code",
   "execution_count": null,
   "id": "11640284",
   "metadata": {},
   "outputs": [],
   "source": [
    "inj_params = {\n",
    "    'Mc':    Mc_solar,\n",
    "    'eta':   0.2499,\n",
    "    'chi1z': 0,\n",
    "    'chi2z': 0,\n",
    "    'DL':    DL_Mpc,\n",
    "    'tc':    tc,\n",
    "    'phic':  phic,\n",
    "    'iota':  0,\n",
    "    'ra':    0,\n",
    "    'dec':   0.0,\n",
    "    'psi':   0,\n",
    "    'gmst0': 0\n",
    "    }"
   ]
  },
  {
   "cell_type": "markdown",
   "id": "34032861",
   "metadata": {},
   "source": [
    "#### assign with respect to which parameters to take derivatives"
   ]
  },
  {
   "cell_type": "code",
   "execution_count": null,
   "id": "0c72ea22",
   "metadata": {},
   "outputs": [],
   "source": [
    "deriv_symbs_string = 'Mc eta tc phic'"
   ]
  },
  {
   "cell_type": "markdown",
   "id": "eacc22c3",
   "metadata": {},
   "source": [
    "#### assign which parameters to convert to cos or log versions"
   ]
  },
  {
   "cell_type": "code",
   "execution_count": null,
   "id": "3f19fe92",
   "metadata": {},
   "outputs": [],
   "source": [
    "conv_cos = ()\n",
    "conv_log = ('Mc', 'eta')"
   ]
  },
  {
   "cell_type": "markdown",
   "id": "f8ae7af8",
   "metadata": {},
   "source": [
    "#### choose whether to take Earth's rotation into account"
   ]
  },
  {
   "cell_type": "code",
   "execution_count": null,
   "id": "bda23c24",
   "metadata": {},
   "outputs": [],
   "source": [
    "use_rot = 0"
   ]
  },
  {
   "cell_type": "markdown",
   "id": "bf3d4840",
   "metadata": {},
   "source": [
    "#### pass all these variables to the network"
   ]
  },
  {
   "cell_type": "code",
   "execution_count": null,
   "id": "0102e5bd",
   "metadata": {},
   "outputs": [],
   "source": [
    "net.set_net_vars(\n",
    "    f=f, inj_params=inj_params,\n",
    "    deriv_symbs_string=deriv_symbs_string,\n",
    "    conv_cos=conv_cos, conv_log=conv_log,\n",
    "    use_rot=use_rot\n",
    "    )"
   ]
  },
  {
   "cell_type": "markdown",
   "id": "f26d739a",
   "metadata": {},
   "source": [
    "## GW benchmarking"
   ]
  },
  {
   "cell_type": "markdown",
   "id": "87f9edab",
   "metadata": {},
   "source": [
    "#### compute the WF polarizations and their derivatives"
   ]
  },
  {
   "cell_type": "code",
   "execution_count": null,
   "id": "83d29bca",
   "metadata": {},
   "outputs": [],
   "source": [
    "net.calc_wf_polarizations()"
   ]
  },
  {
   "cell_type": "code",
   "execution_count": null,
   "id": "888b7576",
   "metadata": {
    "scrolled": true
   },
   "outputs": [],
   "source": [
    "net.calc_wf_polarizations_derivs_num()"
   ]
  },
  {
   "cell_type": "code",
   "execution_count": null,
   "id": "1da5a107",
   "metadata": {},
   "outputs": [],
   "source": [
    "import gwbench.basic_functions as bfs\n",
    "import fisher_analysis_tools as fat"
   ]
  },
  {
   "cell_type": "code",
   "execution_count": null,
   "id": "b13828a8",
   "metadata": {},
   "outputs": [],
   "source": [
    "deriv_symbs_list = deriv_symbs_string.split(' ')\n",
    "deriv_hfp_list = ['del_' + ('log_' + item if item in conv_log else item) + '_hfp' for item in deriv_symbs_list]\n",
    "del_vs_f_dic = bfs.get_sub_dict(net.del_hfpc,deriv_hfp_list,1)\n",
    "\n",
    "net.fisher, net.cov, net.wc_fisher, net.cond_num = fat.calc_fisher_cov_matrices(list(del_vs_f_dic.values()), psd, f, 0)\n",
    "net.errs = fat.get_errs_from_cov(net.cov, net.deriv_variables)\n"
   ]
  },
  {
   "cell_type": "code",
   "execution_count": null,
   "id": "c4d24eb4",
   "metadata": {},
   "outputs": [],
   "source": [
    "#print error values\n",
    "\n",
    "from math import floor, log10\n",
    "\n",
    "def round_n(x, n):\n",
    "    return round(x, n - int(floor(log10(abs(x)))) - 1)\n",
    "\n",
    "\n",
    "# print the contents of the network objects\n",
    "\n",
    "print(\"tc(ms): \", round_n(net.errs['tc']*1000,5)) # 1000 here is for sec to msec conversion\n",
    "print(\"phic: \", round_n(net.errs['phic'], 5))\n",
    "print(\"log_Mch: \", round_n(net.errs['log_Mc']*100,5)) # 100 here is for percentage error\n",
    "print(\"log_eta: \", round_n(net.errs['log_eta']*100,5)) # 100 here is for percentage error\n",
    "# print(\"log_e0: \", round_n(net.errs['log_e0'],4))\n",
    "print()\n"
   ]
  }
 ],
 "metadata": {
  "kernelspec": {
   "display_name": "envgwbench",
   "language": "python",
   "name": "envgwbench"
  },
  "language_info": {
   "codemirror_mode": {
    "name": "ipython",
    "version": 3
   },
   "file_extension": ".py",
   "mimetype": "text/x-python",
   "name": "python",
   "nbconvert_exporter": "python",
   "pygments_lexer": "ipython3",
   "version": "3.7.16"
  }
 },
 "nbformat": 4,
 "nbformat_minor": 5
}
