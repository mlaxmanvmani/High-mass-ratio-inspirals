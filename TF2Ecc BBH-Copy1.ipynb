{
 "cells": [
  {
   "cell_type": "code",
   "execution_count": 1,
   "id": "d9b38a98-87ec-4c21-bccc-b4db4b103d58",
   "metadata": {},
   "outputs": [
    {
     "name": "stderr",
     "output_type": "stream",
     "text": [
      "/var/folders/z7/zgpk7rr930x6gm2p_cg3h7kh0000gn/T/ipykernel_93652/2763875321.py:5: UserWarning: Wswiglal-redir-stdio:\n",
      "\n",
      "SWIGLAL standard output/error redirection is enabled in IPython.\n",
      "This may lead to performance penalties. To disable locally, use:\n",
      "\n",
      "with lal.no_swig_redirect_standard_output_error():\n",
      "    ...\n",
      "\n",
      "To disable globally, use:\n",
      "\n",
      "lal.swig_redirect_standard_output_error(False)\n",
      "\n",
      "Note however that this will likely lead to error messages from\n",
      "LAL functions being either misdirected or lost when called from\n",
      "Jupyter notebooks.\n",
      "\n",
      "To suppress this warning, use:\n",
      "\n",
      "import warnings\n",
      "warnings.filterwarnings(\"ignore\", \"Wswiglal-redir-stdio\")\n",
      "import lal\n",
      "\n",
      "  from lal import GreenwichMeanSiderealTime\n"
     ]
    }
   ],
   "source": [
    "from argparse import ArgumentParser\n",
    "\n",
    "import numpy as np\n",
    "import sympy as sp\n",
    "from lal import GreenwichMeanSiderealTime\n",
    "\n",
    "from gwbench import Network, injections_CBC_params_redshift, M_of_Mc_eta, f_isco_Msolar"
   ]
  },
  {
   "cell_type": "code",
   "execution_count": 2,
   "id": "b32bc766-cc18-4483-b95b-0171a0c09d40",
   "metadata": {},
   "outputs": [
    {
     "data": {
      "text/plain": [
       "_StoreAction(option_strings=['-f'], dest='f', nargs=None, const=None, default=None, type=None, choices=None, required=False, help=None, metavar=None)"
      ]
     },
     "execution_count": 2,
     "metadata": {},
     "output_type": "execute_result"
    }
   ],
   "source": [
    "np.set_printoptions(linewidth=200)\n",
    "\n",
    "parser = ArgumentParser()\n",
    "parser.add_argument('--inj', type = int, help = 'Injection ID in [0,100).', default = 0)\n",
    "parser.add_argument('--derivs', type = str, help = 'Specify wich differentiation method to use: [num, sym].', default = 'num')\n",
    "\n",
    "parser.add_argument(\"-f\", required=False)"
   ]
  },
  {
   "cell_type": "code",
   "execution_count": 3,
   "id": "1bfe4cfa-e11d-434f-b04f-36cb9832beb6",
   "metadata": {},
   "outputs": [],
   "source": [
    "############################################################################\n",
    "### User Choices\n",
    "############################################################################\n",
    "\n",
    "# choose between numeric or symbolic derivatives ['num', 'sym']\n",
    "derivs = parser.parse_args().derivs\n",
    "\n",
    "# choose injection id\n",
    "inj_id = parser.parse_args().inj\n",
    "\n",
    "# user's choice: waveform to use\n",
    "# wf_model_name = 'tf2'\n",
    "#wf_model_name = 'tf2_tidal'\n",
    "wf_model_name = 'lal_bbh'\n",
    "#wf_model_name = 'lal_bns'\n",
    "\n",
    "\n",
    "# the lal_... waveform models are wrappers to call frequency domain waveform from lalsuite\n",
    "# and thus need further specification of the approximant to use\n",
    "if   wf_model_name == 'tf2':       wf_other_var_dic = None\n",
    "elif wf_model_name == 'tf2_tidal': wf_other_var_dic = None\n",
    "elif wf_model_name == 'lal_bbh':   wf_other_var_dic = {'approximant':'TaylorF2Ecc'}\n",
    "elif wf_model_name == 'lal_bns':   wf_other_var_dic = {'approximant':'IMRPhenomD_NRTidalv2'}\n",
    "\n",
    "# user defined waveform model, defined by the files specified in the dictionary (although if 1 is always true and no user defined waveform\n",
    "# path is taken but if we want to define our own wavefrom then make if 0 )\n",
    "# only the 'np' one is needed when using numeric derivatives\n",
    "if 1: user_waveform = None\n",
    "else:\n",
    "    wf_model_name    = 'tf2_user'\n",
    "    wf_other_var_dic = None\n",
    "    user_waveform   = {'np': '../gwbench/wf_models/tf2_np.py', 'sp':'../gwbench/wf_models/tf2_sp.py'}"
   ]
  },
  {
   "cell_type": "code",
   "execution_count": 4,
   "id": "eaed6dea-6d31-4a43-a041-f9ef53c3d8e4",
   "metadata": {},
   "outputs": [],
   "source": [
    "# example detector location defined by user (keep it empty if the detector tech is not custom defined )\n",
    "# user_locs = {'user-loc':{'longitude': 0.0, 'latitude': 0.0, 'arm_azimuth':0.0, 'which_arm':'y', 'shape':'L'}}\n",
    "user_locs = {}\n",
    "\n",
    "# example detector psd defined by the user (keep it empty if the detector tech is not custom defined )\n",
    "# (edit this if using different psd, path can be put as absolute path)(for PSD keep it False but the data files available in noise\n",
    "# curve folder are all ASD, so keep is_asd=True)\n",
    "# user_psds = {'user-tec':{'psd_file':'/Users/mlaxman/Documents/gwbench/gwbench/noise_curves/a_plus.txt', 'is_asd':True}}\n",
    "user_psds = {}\n",
    "\n",
    "\n",
    "# user's choice: with respect to which parameters to take derivatives for the Fisher analysis\n",
    "if 'tidal' in wf_model_name or 'bns' in wf_model_name: deriv_symbs_string = 'Mc eta DL tc phic e0 ra dec psi iota'\n",
    "# else: deriv_symbs_string = 'Mc eta tc phic chi1z chi2z e0'\n",
    "else: deriv_symbs_string = 'Mc eta DL tc phic e0 ra dec psi iota'\n",
    "\n",
    "# user's choice: convert derivatives to cos or log for specific variables\n",
    "conv_cos = ('iota', 'dec')\n",
    "conv_log = ('Mc','DL')\n",
    "\n",
    "# if symbolic derivatives, take from generate_lambdified_functions.py\n",
    "# if numeric  derivatives, user's decision\n",
    "use_rot = 0\n",
    "# 1 for True, 0 for False\n",
    "\n",
    "# calculate SNRs, error matrices, and errors only for the network (If 1, will calculate the mentioned values only for network otherwise\n",
    "# will calculate it for detectors as well as network)\n",
    "only_net = 1\n",
    "\n",
    "# number of cores to use for parallelize of the calc_det_responses_derivs\n",
    "# = None for no parallelization, = 2,3,4,... to allocate N cores (even numbers preferred)\n",
    "num_cores = None"
   ]
  },
  {
   "cell_type": "code",
   "execution_count": 5,
   "id": "faaafbbd-f358-4fcf-92f1-5ab11a0f967e",
   "metadata": {},
   "outputs": [],
   "source": [
    "# options for numeric derivative calculation\n",
    "if derivs == 'num':\n",
    "    # user's choice: switch particular partial derivatives to be analytical, options = [DL,tc,phic,ra,dec,psi]\n",
    "    # otherwise set to None\n",
    "    # ana_deriv_symbs_string = 'DL tc phic ra dec psi' # If any of the variable is in cos or log in above code, do the same here as well\n",
    "    # ana_deriv_symbs_string = 'sp.log(DL) tc phic ra sp.cos(dec) psi'\n",
    "    ana_deriv_symbs_string = None\n",
    "    # np.cos(dec)\n",
    "   \n",
    "\n",
    "    # choose numdifftools parameters for numerical derivatives\n",
    "    step      = 1e-9\n",
    "    method    = 'central'\n",
    "    order     = 2\n",
    "\n",
    "    # only relevant for symbolic derivatives\n",
    "    gen_derivs = None\n",
    "\n",
    "# options for symbolic derivative calculation\n",
    "elif derivs == 'sym':\n",
    "\n",
    "    # user's choice: switch particular partial derivatives to be analytical, options = [DL,tc,phic,ra,dec,psi]\n",
    "    # otherwise set to None\n",
    "    ana_deriv_symbs_string = None\n",
    "\n",
    "    # choose numdifftools parameters for numerical derivatives\n",
    "    step      = None\n",
    "    method    = None\n",
    "    order     = None\n",
    "\n",
    "    # tell the code to generate symbolic derivatives as needed (turned on this tutorial)\n",
    "    # the recommendation is to precompute them externally and load them for large-scale runs\n",
    "    gen_derivs = True\n"
   ]
  },
  {
   "cell_type": "code",
   "execution_count": 6,
   "id": "291929d0-4e87-4a7d-9ad0-947f2e6e91aa",
   "metadata": {},
   "outputs": [],
   "source": [
    "# user's choice to generate injection parameters\n",
    "# if 'tidal' in wf_model_name or 'bns' in wf_model_name:\n",
    "#     mmin      = 0.8\n",
    "#     mmax      = 3\n",
    "#     chi_lo    = -0.05\n",
    "#     chi_hi    = 0.05\n",
    "# else:\n",
    "#     mmin      = 20\n",
    "#     mmax      = 30\n",
    "#     chi_lo    = 0.0\n",
    "#     chi_hi    = 0.0\n",
    "\n",
    "# cosmo_dict = {'zmin':0, 'zmax':0.2, 'sampler':'uniform_comoving_volume_inversion'}\n",
    "# mass_dict  = {'dist':'uniform', 'mmin':mmin, 'mmax':mmax}\n",
    "# # the default waveforms above are non-precessing, hence dim=1, set dim=3 for precessing waveforms like 'IMRPhenomPv2' or 'IMRPhenomPv2_NRTidalv2'\n",
    "# spin_dict  = {'dim':1, 'geom':'cartesian', 'chi_lo':chi_lo, 'chi_hi':chi_hi}\n",
    "\n",
    "# # Flag indicating whether to apply redshift to the mass parameters (redshifted : bool).\n",
    "# redshifted = 1\n",
    "# # Number of injections to generate (default: 10)\n",
    "# num_injs   = 10\n",
    "# # Seed for the random number generator (default: None)\n",
    "# seed       = 29378\n",
    "# file_path  = None\n",
    "\n",
    "# # Generate parameters [(redshifted) masses, spins, luminosity distance, redshift, inclination, right ascension, declination, polarization angle\n",
    "# # for compact binary coalescence (CBC) injections.\n",
    "# injections_data = injections_CBC_params_redshift(cosmo_dict,mass_dict,spin_dict,redshifted,num_injs,seed,file_path)\n"
   ]
  },
  {
   "cell_type": "code",
   "execution_count": 7,
   "id": "8785366a-1103-4ccf-8c2e-a9e6db0fa133",
   "metadata": {},
   "outputs": [
    {
     "name": "stdout",
     "output_type": "stream",
     "text": [
      "injections parameter:  {'Mc': 6.723034342261816, 'e0': 0.3, 'eta': 0.2222222222222222, 'chi1x': 0.0, 'chi1y': 0.0, 'chi1z': 0.0, 'chi2x': 0.0, 'chi2y': 0.0, 'chi2z': 0.0, 'DL': 500, 'tc': 0.0, 'phic': 0.0, 'iota': 1.0866837689154896, 'ra': 2.826610196992887, 'dec': 2.7878413091523324, 'psi': 2.9016580232381197, 'gmst0': 0.0, 'z': 0.1051}\n",
      "\n"
     ]
    }
   ],
   "source": [
    "############################################################################\n",
    "### injection parameters\n",
    "############################################################################\n",
    "\n",
    "inj_params = {\n",
    "    'Mc'    : 6.723034342261816,\n",
    "    'e0'    : 0.3,\n",
    "    'eta'   : 0.2222222222222222,\n",
    "    'chi1x' : 0.,\n",
    "    'chi1y' : 0.,\n",
    "    'chi1z' : 0.,\n",
    "    'chi2x' : 0.,\n",
    "    'chi2y' : 0.,\n",
    "    'chi2z' : 0.,\n",
    "    'DL'    : 500,\n",
    "    'tc'    : 0.,\n",
    "    'phic'  : 0.,\n",
    "    'iota'  : np.random.uniform(0, np.pi),\n",
    "    'ra'    : np.random.uniform(0, 2 * np.pi),\n",
    "    'dec'   : np.random.uniform(0, np.pi),\n",
    "    'psi'   : np.random.uniform(0, 2 * np.pi),\n",
    "    'gmst0' : 0.,\n",
    "    'z'     : 0.1051,\n",
    "    }\n",
    "\n",
    "\n",
    "if 'tidal' in wf_model_name or 'bns' in wf_model_name:\n",
    "    inj_params['lam_t']       = 600.\n",
    "    inj_params['delta_lam_t'] = 0.\n",
    "\n",
    "# print(injections_data[0][99])\n",
    "\n",
    "print('injections parameter: ', inj_params)\n",
    "print()"
   ]
  },
  {
   "cell_type": "code",
   "execution_count": 8,
   "id": "b57951dc-3c27-4bec-aa86-f6e3fb09efd0",
   "metadata": {},
   "outputs": [
    {
     "name": "stdout",
     "output_type": "stream",
     "text": [
      "network spec:  ['aLIGO_L']\n",
      "\n",
      "f_lo: 10    f_hi: 268    df: 0.04419417382415922\n",
      "\n"
     ]
    }
   ],
   "source": [
    "############################################################################\n",
    "### Network specification\n",
    "############################################################################\n",
    "# 'user-tec_user-loc' is for custom define detector and its location\n",
    "network_spec = ['aLIGO_L']\n",
    "\n",
    "\n",
    "print('network spec: ', network_spec)\n",
    "print()\n",
    "\n",
    "f_lo = 10\n",
    "# f_hi = f_isco_Msolar(M_of_Mc_eta(inj_params['Mc'],inj_params['eta']))\n",
    "f_hi = 268\n",
    "df   = 2.**-4.5\n",
    "f    = np.arange(f_lo,f_hi+df,df)\n",
    "\n",
    "\n",
    "print('f_lo:', f_lo, '   f_hi:', f_hi, '   df:', df)\n",
    "print()"
   ]
  },
  {
   "cell_type": "code",
   "execution_count": 12,
   "id": "6440f38c-ca5f-4c11-863d-1f131c77ab73",
   "metadata": {},
   "outputs": [
    {
     "name": "stderr",
     "output_type": "stream",
     "text": [
      "2024-08-02 20:07:17,991 - CSU - INFO : PSDs, antenna patterns, and LPFs loaded.\n",
      "2024-08-02 20:07:17,992 - CSU - INFO : Calculate numeric derivatives of detector responses.\n",
      "2024-08-02 20:07:17,993 - CSU - INFO :    aLIGO_L\n",
      "2024-08-02 20:07:18,283 - CSU - INFO : Numeric derivatives of detector responses calculated.\n",
      "2024-08-02 20:07:18,283 - CSU - INFO : SNRs calculated.\n",
      "2024-08-02 20:07:18,284 - CSU - INFO : Calculate errors (Fisher & cov matrices).\n",
      "2024-08-02 20:07:18,284 - CSU - INFO :    aLIGO_L\n",
      "2024-08-02 20:07:18,306 - CSU - INFO : Sky areas calculated.\n",
      "2024-08-02 20:07:18,306 - CSU - INFO : Errors calculated.\n"
     ]
    }
   ],
   "source": [
    "############################################################################\n",
    "### Single Network GW Benchmarking\n",
    "############################################################################\n",
    "\n",
    "# initialize Network and do general setup\n",
    "net = Network(network_spec, logger_name='CSU', logger_level='INFO')\n",
    "# pass all the needed and optional variables\n",
    "net.set_net_vars(wf_model_name=wf_model_name, wf_other_var_dic=wf_other_var_dic, user_waveform=user_waveform,\n",
    "                 f=f, inj_params=inj_params, deriv_symbs_string=deriv_symbs_string,\n",
    "                 conv_cos=conv_cos, conv_log=conv_log, use_rot=use_rot,\n",
    "                 user_locs=user_locs, user_psds=user_psds, ana_deriv_symbs_string=ana_deriv_symbs_string)\n",
    "# net.set_net_vars(wf_model_name=wf_model_name, wf_other_var_dic=wf_other_var_dic, user_waveform=user_waveform,\n",
    "#                  f=f, inj_params=inj_params, deriv_symbs_string=deriv_symbs_string,\n",
    "#                  conv_log=conv_log, use_rot=use_rot,\n",
    "#                  user_locs=user_locs, user_psds=user_psds, ana_deriv_symbs_string=ana_deriv_symbs_string)\n",
    "# start the actual analysis\n",
    "net.calc_errors(only_net=only_net, derivs=derivs, step=step, method=method, order=order, gen_derivs=gen_derivs, num_cores=num_cores)\n",
    "\n",
    "### for completeness here are the steps involved, but since gwbench-0.7.4 the code will perform the necessary\n",
    "### internally as needed\n",
    "# '''\n",
    "# net.setup_ant_pat_lpf_psds()\n",
    "# if derivs == 'num':\n",
    "#     net.calc_det_responses_derivs_num(step=step, method=method, order=order, num_cores=num_cores)\n",
    "# elif derivs = 'sym':\n",
    "#     # generation of lambdified derivatives used to be handles outside and is still recommended for speed reasons\n",
    "#     # refer to example_script/generate_lambdified_functions.py\n",
    "#     net.load_det_responses_derivs_sym(gen_derivs=True)\n",
    "#     net.calc_det_responses_derivs_sym(num_cores=num_cores)\n",
    "# net.calc_snrs(only_net=only_net)\n",
    "# net.calc_errors(only_net=only_net)\n",
    "# '''"
   ]
  },
  {
   "cell_type": "code",
   "execution_count": 13,
   "id": "329999a6-1ac0-4afc-9c59-59cb3b2b5984",
   "metadata": {},
   "outputs": [],
   "source": [
    "############################################################################\n",
    "### Print results\n",
    "############################################################################\n",
    "\n",
    "# net.print_detectors()\n",
    "# net.print_network()\n",
    "\n",
    "# print('Fisher analysis done.')"
   ]
  },
  {
   "cell_type": "code",
   "execution_count": 14,
   "id": "57ff533d-0431-41bf-a894-34e05a418317",
   "metadata": {},
   "outputs": [
    {
     "name": "stdout",
     "output_type": "stream",
     "text": [
      "SNR: 8.10403799582788\n",
      "errs: {'log_Mc': 0.002493614, 'eta': 0.009039281, 'log_DL': 290.55334, 'tc': 134.49762, 'phic': 6240.2363, 'e0': 0.002469196, 'ra': 6314.0913, 'cos_dec': 2206.3916, 'psi': 3721.9656, 'cos_iota': 2594.4917, 'sky_area_90': 1783712118991.113}\n"
     ]
    }
   ],
   "source": [
    "print(\"SNR:\", net.snr)\n",
    "print(\"errs:\", net.errs)\n",
    "# print(\"Error in e0:\", net.errs['e0'])\n",
    "# print(\"Error in e0:\", net.errs['e0']/0.3)"
   ]
  },
  {
   "cell_type": "code",
   "execution_count": null,
   "id": "c749c3de-3b26-424b-bf4f-62aedc85d876",
   "metadata": {},
   "outputs": [],
   "source": [
    "import numpy as np\n",
    "import matplotlib.pyplot as plt\n",
    "\n",
    "# Define lower limit, upper limit, and step size for e0 values\n",
    "e0_lower = 0.001\n",
    "e0_upper = 0.30\n",
    "step_size = 0.002\n",
    "\n",
    "# Generate e0 values from lower limit to upper limit with the given step size\n",
    "e0_values = np.arange(e0_lower, e0_upper+step_size, step_size)\n",
    "\n",
    "# List to store e0 values and corresponding errors\n",
    "e0_errors = []\n",
    "\n",
    "# Loop over the generated e0 values\n",
    "for e0_value in e0_values:\n",
    "    # Update e0 value in inj_params\n",
    "    inj_params['e0'] = e0_value\n",
    "    \n",
    "    # Print current e0 value\n",
    "    print(f'Computing error for e0 = {e0_value}')\n",
    "    \n",
    "    # Initialize Network and do general setup\n",
    "    net = Network(network_spec, logger_name='CSU', logger_level='INFO')\n",
    "    # pass all the needed and optional variables\n",
    "    net.set_net_vars(wf_model_name=wf_model_name, wf_other_var_dic=wf_other_var_dic, user_waveform=user_waveform,\n",
    "                     f=f, inj_params=inj_params, deriv_symbs_string=deriv_symbs_string,\n",
    "                     conv_cos=conv_cos, conv_log=conv_log, use_rot=use_rot,\n",
    "                     user_locs=user_locs, user_psds=user_psds, ana_deriv_symbs_string=ana_deriv_symbs_string)\n",
    "    # start the actual analysis\n",
    "    net.calc_errors(only_net=only_net, derivs=derivs, step=step, method=method, order=order, gen_derivs=gen_derivs, num_cores=num_cores)\n",
    "\n",
    "    # Get error in e0\n",
    "    e0_error = net.errs['e0']\n",
    "    \n",
    "    # Print error in e0\n",
    "    print(\"Error in e0:\", e0_error)\n",
    "    \n",
    "    # Append e0 value and corresponding error to the list\n",
    "    e0_errors.append([e0_value, e0_error])\n",
    "\n",
    "# Print the 2D list of e0 values and errors\n",
    "# print(\"e0 values and corresponding errors:\")\n",
    "# for e0_value, e0_error in e0_errors:\n",
    "#     print(f'e0: {e0_value}, Error: {e0_error}')\n"
   ]
  },
  {
   "cell_type": "code",
   "execution_count": null,
   "id": "1f9679e7-ae28-4135-89b4-55ae071cd08c",
   "metadata": {},
   "outputs": [],
   "source": [
    "# np.savetxt('favata_fig1_bbh3_fhi189p5_dfm1_stepm11.txt', e0_errors, fmt='%f %f')\n",
    "# np.savetxt('favata_fig1_bbh2_fhi241_dfm2p8_stepm11.txt', e0_errors, fmt='%f %f')\n",
    "np.savetxt('favata_fig1_bbh1_fhi241_dfm2p8_stepm11.txt', e0_errors, fmt='%f %f')"
   ]
  },
  {
   "cell_type": "code",
   "execution_count": null,
   "id": "26437a07-1031-45c4-ba42-04b329d6fda2",
   "metadata": {},
   "outputs": [],
   "source": []
  }
 ],
 "metadata": {
  "kernelspec": {
   "display_name": "Python (gwbench)",
   "language": "python",
   "name": "gwbench"
  },
  "language_info": {
   "codemirror_mode": {
    "name": "ipython",
    "version": 3
   },
   "file_extension": ".py",
   "mimetype": "text/x-python",
   "name": "python",
   "nbconvert_exporter": "python",
   "pygments_lexer": "ipython3",
   "version": "3.9.19"
  }
 },
 "nbformat": 4,
 "nbformat_minor": 5
}
